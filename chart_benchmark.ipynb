{
 "cells": [
  {
   "cell_type": "markdown",
   "metadata": {},
   "source": [
    "# Chart Benchmark Comparison\n",
    "\n",
    "The purpose of this comparison is to measure each chart libraries performance. \n",
    "\n",
    "We use dataset from [data.json](./bench/data.json) which has `388,858` data points. \n",
    "\n",
    "### Disclaimer\n",
    "\n",
    "- I mostly did not edit code. All I changed files in bench folder is to format code and replace `fetch(./data.json)` with `fetch(\"https://raw.githubusercontent.com/leeoniya/uPlot/master/bench/data.json\")` since data wasn't loaded on browser.\n",
    "  - Also, added zoom feature in [Echart5.html](./bench/ECharts5.html) to compare the performance between Echarts and uPlot.\n",
    "- I removed some chart libraries' files since these libraries don't meet our requirements, or library versions are outdated.\n",
    "- Even though I didn't change logic in files, some chart styles look broken. However, I believe it's not an issue to measure benchmarks.\n",
    "\n",
    "### Credit\n",
    "\n",
    "The original code is found in [https://github.com/leeoniya/uPlot/tree/master/bench]\n",
    "\n",
    "---\n",
    "\n",
    "## How to Measure Benchmarks\n",
    "\n",
    "In the [bench folder](./bench/) files, you can find code like `console.time('prep');`, `console.timeEnd('prep');`, so you can see how long it took to render charts. In these files, we measure 2 things. \n",
    "\n",
    "1. `prep` time: how long it takes to prepare data for charts\n",
    "2. `chart` time: how long it takes to render charts\n",
    "\n",
    "You can see the respective result in browser console.\n",
    "\n",
    "The way of measurement is to refresh each chart pages 3 times and get the average.\n",
    "\n",
    "### Env\n",
    "\n",
    "- Chrome with private mode\n",
    "- M1 Mac with Apple M1 Max (10 core), 32 GB mem"
   ]
  },
  {
   "cell_type": "code",
   "execution_count": null,
   "metadata": {},
   "outputs": [],
   "source": []
  },
  {
   "cell_type": "code",
   "execution_count": null,
   "metadata": {},
   "outputs": [],
   "source": []
  },
  {
   "cell_type": "markdown",
   "metadata": {},
   "source": []
  },
  {
   "cell_type": "markdown",
   "metadata": {},
   "source": []
  }
 ],
 "metadata": {
  "kernelspec": {
   "display_name": "Python 3.9.6 64-bit",
   "language": "python",
   "name": "python3"
  },
  "language_info": {
   "codemirror_mode": {
    "name": "ipython",
    "version": 3
   },
   "file_extension": ".py",
   "mimetype": "text/x-python",
   "name": "python",
   "nbconvert_exporter": "python",
   "pygments_lexer": "ipython3",
   "version": "3.9.6"
  },
  "orig_nbformat": 4,
  "vscode": {
   "interpreter": {
    "hash": "31f2aee4e71d21fbe5cf8b01ff0e069b9275f58929596ceb00d14d90e3e16cd6"
   }
  }
 },
 "nbformat": 4,
 "nbformat_minor": 2
}
